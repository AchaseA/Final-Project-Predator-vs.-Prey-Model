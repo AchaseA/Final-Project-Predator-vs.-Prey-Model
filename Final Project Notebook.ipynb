{
 "cells": [
  {
   "cell_type": "markdown",
   "metadata": {},
   "source": [
    "The physics behind the model I'm using consists of a system of ODEs that are solvable by using numerical methods. The equations are as follows:\n",
    "               dx/dt = ax-bxy     and        dy/dt = cxy-dy,\n",
    "The x represents the population of the prey, and the y represents the population of the decay. a, b, c, and d are all constants. a represents the growth rate of the prey. So if a were to increase, then there is more prey being produced per unit of time. the \"bxy\" and the \"cxy\" term are what marry the predator and the prey together. The multiplication of the two populations by some constant shows the interaction between the two animals. In other words, it shows how often the predator is eating its prey. In the first equation, this term is being subtracted because the more the prey is eaten, the smaller the population will be. In the second equation, it shows that the more the prey is eaten, the greater the population of the prey will be. Both b and c are the constants that determine the rate at which they interact. For the majority of my testing, these two constants will be the same. Finally, d is a constant that determines the rate at which the population of predator grows and decays. We can see that the term d is connected to is actually subtracted, which does not inherently make a lot of sense. We would think that it would follow the same idea as the prey, which would increase as the constant increased. However, it turns out this is a better model because if the predators' population increased drastically, they would never have any food to eat, and would die from starvation. Thus, it is subtracted to model this fact.\n",
    "\n",
    "My function for producing these equations can be seen as:\n",
    "                           def pp(r,t):\n",
    "where r, when spliced and given variables r[0] and r[1], can hold both functions. t represents time, and the function returns both ODEs in the form of an array that can be input into my numerical solving method.\n",
    "\n",
    "As for solving these equations simultaneously, I will be using the fourth order runge-kutta solving method. The parameters of the algorithm are as such: \n",
    "                          def RK4(f, a, b, N): \n",
    "In this algorithm, I will actually only be using one variable for these two equations, r, which encapsules both functions as I had mentioned before. f is the function that is being inputted. in this case, the function \"pp\" is always inserted into this parameter. a, b, and N are the classic interface in which a is the start of the interval we are approximating between, b is the end of the interval, and N determines the number of steps the function calculates. Within the algorithm, we essentially run through the runge-kutta four method derived using taylor expansions to ultimately calculate a solution for the ODE. \n",
    "\n",
    "As for any project, there are boundary conditions we must look out for. An intuitive boundary condition for this project would be when the initial population of either animal is zero. Another interesting condition to look at would be when the rate of change of either animal is drastically high or drastically low. Finally, another important boundary condition I would like to look into would be what conditions cause for either the predator or the prey to die off completely.\n",
    "\n",
    "References:\n",
    "Newman, Mark E. J. Computational Physics. Createspace, 2013.\n"
   ]
  },
  {
   "cell_type": "code",
   "execution_count": null,
   "metadata": {},
   "outputs": [],
   "source": []
  }
 ],
 "metadata": {
  "kernelspec": {
   "display_name": "Python 3",
   "language": "python",
   "name": "python3"
  },
  "language_info": {
   "codemirror_mode": {
    "name": "ipython",
    "version": 3
   },
   "file_extension": ".py",
   "mimetype": "text/x-python",
   "name": "python",
   "nbconvert_exporter": "python",
   "pygments_lexer": "ipython3",
   "version": "3.7.4"
  }
 },
 "nbformat": 4,
 "nbformat_minor": 2
}
