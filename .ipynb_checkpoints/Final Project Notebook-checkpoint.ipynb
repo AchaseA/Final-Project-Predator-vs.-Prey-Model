{
 "cells": [
  {
   "cell_type": "markdown",
   "metadata": {},
   "source": [
    "# Predator-Prey Final Notebook"
   ]
  },
  {
   "cell_type": "markdown",
   "metadata": {},
   "source": [
    "## Table of Contents\n",
    "* [Introduction](#Introduction)\n",
    "* [Model](#Model)\n",
    "* [Numerical Methods](#Numerical)\n",
    "* Results (Found in the \"Final Project Main Code\")\n",
    "* [Analysis](#Analysis)\n",
    "* [Summary](#Summary)\n",
    "* [References](#References)"
   ]
  },
  {
   "cell_type": "markdown",
   "metadata": {},
   "source": [
    "## Introduction <a id='Introduction'></a>"
   ]
  },
  {
   "cell_type": "markdown",
   "metadata": {},
   "source": [
    "It is a fact of life that creatures depend on others to supply esssential resources for one another. The predator prey relationship is a biological cycle in which a specific creature, the predator, feeds on another creature, the prey, as a trade of energy. The cuttlefish, for example, is a predatory cephalopod that feeds on mollusks. In doing this, they affect the survival of each other's species.These cycles that are experienced throughout nature are critical in the food network. Natural disasters or a sudden interruption in the reproduction of species are examples of how these relationships could be affected, potentially altering the survival of the species involved. How can we model these circumstances to find a relationship in which the species can be as stable as possible?\n",
    "\n",
    "To explore further into this topic, I will be using the Lotka-Volterra equations, which are used to model predator prey relationships. Alfred J. Lotka was a scientist interested in the subject. He found that he could model these biological relationships similar to chemical relationships, with the link between the two to be the fact that the exchange between matter and energy were analogous. For example, a chemical system would have components such as molecules and bonds that contain matter and energy. But in the biological world, it was analogous to think of organisms as the molecules and the raw materials that hold energy as the bonds. Similar to how bonds break, releasing and exchanging energy, energy was traded through the exchange of food, growth, and reproduction. \n",
    "\n",
    "He found that the predator prey relationship has oscillating populations dependent on the population of both animals simultaneously. Before Lotka, people often had to look at the entire ecosystem and \"food chain\" to try and predict how a population would be affected by some variable. With this new insight, predator prey relationships can be looked at exclusively rather than being bogged down in entire ecosystem.\n"
   ]
  },
  {
   "cell_type": "markdown",
   "metadata": {},
   "source": [
    "## Model <a id='Model'></a>"
   ]
  },
  {
   "cell_type": "markdown",
   "metadata": {},
   "source": [
    "The physics behind the model consists of a system of ODEs that are solvable by using numerical methods. The Lotka-Volterra equations are as follows:\n",
    "              \n",
    "                                       dx/dt = ax-bxy     and        dy/dt = cxy-dy,\n",
    "The x represents the population of the prey, and the y represents the population of the decay. a, b, c, and d are all constants. a represents the growth rate of the prey. So if a were to increase, then there is more prey being produced per unit of time. the \"bxy\" and the \"cxy\" term are what link the predator and the prey together. The multiplication of the two populations by some constant represents the interaction between the two animals. In other words, it shows how often the predator is eating its prey. In the first equation, this term is being subtracted because the more the prey is eaten, the smaller the population will be. In the second equation, it shows that the more the prey is eaten, the greater the population of the prey will be. Both b and c are the constants that determine the rate at which they interact. For the majority of my testing, these two constants will be the same. Finally, d is a constant that determines the rate at which the population of predator grows and decays. We can see that the term d is connected to is actually subtracted, which does not inherently make a lot of sense. We would think that it would follow the same idea as the prey, which would increase as the constant increased. However, it turns out this is a better model because if the predators' population increased drastically, they would never have any food to eat, and would die from starvation. Thus, it is subtracted to model this fact.\n",
    "\n",
    "As for any project, there are boundary conditions to look out for. Limiting cases that are being tested will consist of\n",
    "when all the constants are equivalent, when the growth rate of prey is zero, when the mortality rate of the predators is zero, and when both of the interaction coefficients are zero. After the limiting cases are tested, I will determine which relationships are the most stable. Finally, the significant relationships will be tested to explore how they respond to different circumstances, and the severity that they can withstand it without becoming an unstable relationship."
   ]
  },
  {
   "cell_type": "markdown",
   "metadata": {},
   "source": [
    "## Numerical Methods <a id='Numerical'></a>"
   ]
  },
  {
   "cell_type": "markdown",
   "metadata": {},
   "source": [
    "There are three functions within the code. The first is a function that consists of developing the Lotka-Volterra equations. They are then returned in the form of an array that can be spliced by the fourth order Runge-Kutta function. The second  is another function that produces the same two equations, except this function adds a randomizer to the growth constant, a. This randomizer is used to represent random circumstances that can potentially affect the population. This randomness can be varied to reflect either mild conditions or serious disruptions in the ecosystem. The last function is the function that runs the previously mentioned fourth order Runge-Kutta method. The fourth order method is similar to the second order Runge-Kutta method, but even more accurate. The method uses Taylor expansions to expand around the initial time and be able to approximate derivatives at the beginning, midpoints, and end of the time step.\n",
    "![xkcd](RK4image.png)\n",
    "\n",
    "The figure above shows the different slopes, k1, k2, k3, and k4 show where they are calculated throughout the timestep. The method then uses a weighted sum to calculate the approximated slope across the entire time step. After completing the sum for the time step, it repeats the process, ultimately calculating the solution. Using four slopes rather than two makes this method significantly more accurate compared to the second and first order Runge-Kutta methods. One of the two functions above will be input into the solving method, and the method will return arrays of data points for the predator population, the prey population, and time. The arrays can then be plotted to show the solution.\n",
    "\n"
   ]
  },
  {
   "cell_type": "markdown",
   "metadata": {},
   "source": [
    "## Analysis <a id='Analysis'></a>"
   ]
  },
  {
   "cell_type": "markdown",
   "metadata": {},
   "source": [
    "From these graphs, there are clear trends happening within the model. The stable graphs oscillate as the predator graph \"follows\" the path of the prey in non-limiting case scenarios. The question we want to answer is how can we maintain this ecosystem for as long as possible, and how much can we randomize the growth population before it becomes unstable? If we want to find the most stable relationship possible, the growth rate of prey, interaction rate of the creatures, and the mortality rate of the predator to be equal. This makes sense because if they are all being eaten, are dying, and growing at the exact same rate, then they will never change. We can see from the \"Equal Everything\" graph that this is in fact the case. \n",
    "   \n",
    "Other more realistic graphs that show stability (meaning neither creature is dying off) are the \"Equal Mortality Rates,\" \"High Mortality Rate, Medium Growth Rate\" and the \"High Growth Rate, Medium Mortality Rate\" graphs. In these graphs we can see that the peaks of the predator population occur shortly after the peaks of the prey population. If we can imagine this in the real world, it makes sense because the predators have the most food when the prey is at their peak. So the more food they can eat, the healthier they will be. This leads to a rise in predator population. However, that rise in population makes it so that the prey are being eaten at a greater pace than before, which causes the predators to spike in population. This spike in predator population causes the population of the prey to decrease. Due to the lack of food and the increased amount of predators, they quickly die off as there is not enough food to support a large predator population. With fewer predators, the prey can begin to rebuild their population. This is the cycle that repeats itself. Another great example of this model is the \"Zero Interaction Rate\" graph. This graph shows what happens when the animals never see each other in the wild. This is a case where the predators still need to find prey to eat, but they simply can't. While it's not necessarily the most realistic scenario, it is further proof that the model works. As we can see, the prey population skyrockets after not being hunted, and the predator population ceases to exist as it cannot find any food. \n",
    "   \n",
    "However, there are scenarios where the code does not seem to model what would happen in the nature. For example, the \"No Mortality Rate, High Growth Rate\" shows the predator population skyrocketing and then flattening while the prey population dies off and flattens to zero, ultimately becoming extinct. Yet somehow, the predator, who relies on the prey to survive, does not die off. Realistically thinking, this could not happen in the real world because all animals must die at some point. If not hunger, they will die of old age. In this sense, the code has not broken, but our constants are not realistic. It is not possible for a mortality constant to be zero. So while the code works great to show what happens with reasonable variables, it cannot determine which variables are not realistic in the real world, which can be seen at times during limiting cases. \n",
    "   \n",
    "The most important thing to understand is that our growth rate of the prey and the mortality rate of the predator should be similar. If they are similar, the populations will oscillate with time and they also have room for error with any random circumstance that comes into play. If the growth and decay rates greatly differ, the system becomes much more fragile and is more susceptible to the possibility of one creature dying off due to a random circumstance. Smaller changes in the randomizer (smaller percentages) tend to show circumstances that affect a population to a lesser extent. An example of this would be a change in weather, such as a snowy winter in a place that does not normally snow. This might make it more difficult for the animals to survive, but it certainly does not have a great enough effect to eradicate a population. An example of this would be the \"Equal Growth and Mortality Rates, Medium Randomizing Factor\" graph. There are slight deviations to the smooth oscillations, but the relationship is still stable. The model also showed that there are some circumstances that can significantly affect the populations. This occurred when the randomizer percentage was larger. One could take this to be analogous with a large environmental change. For example, if a new invasive species is brought into the environment and begins to hunt the prey. This could have significant effects because the prey would die off rapidly and the predators would run out of food to eat. Or maybe the prey was not dying any more than normal, but it was invasive species eating them rather than the predator killing them. A situation like this would quickly lead to a decrease in the predator population (The loss of habitat is another massive change that could affect the population to this severity. \n",
    "\n",
    "As explained above, when the growth rate and the mortality rate are similar, the populations of the two animals are less affected by a large circumstance than they are when they either differ significantly. This can be seen from the \"Equal Growth and Mortality Rates, Large Randomizing Factor.\" While the high randomization still has a considerable effect on the populations, there are still consistent oscillations. Comparing the same strength of randomization in the \"High Growth, Low Mortality Rates, Large Randomizing Factor\" graph, there is clearly instability because both the predator and prey nearly go extinct. This makes sense because similar growth and mortality rates represent more stable relationships. By definition, that means that they are more consistent and less affected by outside events."
   ]
  },
  {
   "cell_type": "markdown",
   "metadata": {},
   "source": [
    "## References <a id='References'></a>"
   ]
  },
  {
   "cell_type": "markdown",
   "metadata": {},
   "source": [
    "Newman, Mark E. J. Computational Physics. Createspace, 2013.\n",
    "\n",
    "https://necsi.edu/mutualistic-relationships \n",
    "\n",
    "https://www.pnas.org/content/112/31/9493\n",
    "\n",
    "https://sciencing.com/five-types-ecological-relationships-7786.html\n",
    "\n",
    "http://www.tiem.utk.edu/~gross/bioed/bealsmodules/predator-prey.html\n",
    "\n",
    "https://lpsa.swarthmore.edu/NumInt/NumIntFourth.html"
   ]
  },
  {
   "cell_type": "code",
   "execution_count": null,
   "metadata": {},
   "outputs": [],
   "source": []
  }
 ],
 "metadata": {
  "kernelspec": {
   "display_name": "Python 3",
   "language": "python",
   "name": "python3"
  },
  "language_info": {
   "codemirror_mode": {
    "name": "ipython",
    "version": 3
   },
   "file_extension": ".py",
   "mimetype": "text/x-python",
   "name": "python",
   "nbconvert_exporter": "python",
   "pygments_lexer": "ipython3",
   "version": "3.7.4"
  }
 },
 "nbformat": 4,
 "nbformat_minor": 2
}
