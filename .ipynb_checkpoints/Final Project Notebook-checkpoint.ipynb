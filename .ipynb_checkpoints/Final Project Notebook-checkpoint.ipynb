{
 "cells": [
  {
   "cell_type": "markdown",
   "metadata": {},
   "source": [
    "## Introduction <a id='Introduction'></a>"
   ]
  },
  {
   "cell_type": "markdown",
   "metadata": {},
   "source": [
    "It is a fact of life that creatures depend on others to supply esssential resources for one another. The predator prey relationship is a biological cycle in which a specific creature, the predator, feeds on another creature, the prey, as a trade of energy. The cuttlefish, for example, is a predatory cephalopod that feeds on mollusks. In doing this, they affect the survival of each other's species.These cycles that are experienced throughout nature are critical in the food network. Natural disasters or a sudden interruption in the reproduction of species are examples of how these relationships could be affected, potentially altering the survival of the species involved. How can we model these circumstances to find a relationship in which the species can be as stable as possible?\n",
    "\n",
    "To explore further into this topic, I will be using the Lotka-Volterra equations, which are used to model predator prey relationships. Alfred J. Lotka was a scientist interested in the subject. He found that he could model these biological relationships similar to chemical relationships, with the link between the two to be the fact that the exchange between matter and energy were analogous. For example, a chemical system would have components such as molecules and bonds that contain matter and energy. But in the biological world, it was analogous to think of organisms as the molecules and the raw materials that hold energy as the bonds. Similar to how bonds break, releasing and exchanging energy, energy was traded through the exchange of food, growth, and reproduction. \n",
    "\n",
    "He found that the predator prey relationship has oscillating populations dependent on the population of both animals simultaneously. Before Lotka, people often had to look at the entire ecosystem and \"food chain\" to try and predict how a population would be affected by some variable. With this new insight, predator prey relationships can be looked at exclusively rather than being bogged down in entire ecosystem.\n",
    "\n",
    "The physics behind the model consists of a system of ODEs that are solvable by using numerical methods. The Lotka-Volterra equations are as follows:\n",
    "              \n",
    "                                       dx/dt = ax-bxy     and        dy/dt = cxy-dy,\n",
    "The x represents the population of the prey, and the y represents the population of the decay. a, b, c, and d are all constants. a represents the growth rate of the prey. So if a were to increase, then there is more prey being produced per unit of time. the \"bxy\" and the \"cxy\" term are what link the predator and the prey together. The multiplication of the two populations by some constant represents the interaction between the two animals. In other words, it shows how often the predator is eating its prey. In the first equation, this term is being subtracted because the more the prey is eaten, the smaller the population will be. In the second equation, it shows that the more the prey is eaten, the greater the population of the prey will be. Both b and c are the constants that determine the rate at which they interact. For the majority of my testing, these two constants will be the same. Finally, d is a constant that determines the rate at which the population of predator grows and decays. We can see that the term d is connected to is actually subtracted, which does not inherently make a lot of sense. We would think that it would follow the same idea as the prey, which would increase as the constant increased. However, it turns out this is a better model because if the predators' population increased drastically, they would never have any food to eat, and would die from starvation. Thus, it is subtracted to model this fact.\n",
    "\n",
    "There are three functions within the code. The first is a function that consists of developing the Lotka-Volterra equations. They are then returned in the form of an array that can be spliced by the fourth order Runge-Kutta function. The second  is another function that produces the same two equations, except this function adds a randomizer to the growth constant, a. This randomizer is used to represent random circumstances that can potentially affect the population. The last function is the function that runs the previously mentioned fourth order Runge-Kutta method. The fourth order method is similar to the second order Runge-Kutta method, but even more accurate. The method uses Taylor expansions to expand around the initial time and be able to approximate derivatives at the first quarter, first half, third quarter, and end of the time step. The method then uses a weighted sum to calculate the approximated slope across the entire time step. The method then moves to the next time step and repeats the process, ultimately calculating the solution. Using four slopes rather than two makes this method significantly more accurate compared to the second and first order Runge-Kutta methods. One of the two functions above will be input into the solving method, and the method will return arrays of data points for the predator population, the prey population, and time. The arrays can then be plotted to show the solution.\n",
    "\n",
    "As for any project, there are boundary conditions to look out for. An intuitive boundary condition for this project would be when the initial population of either animal is zero. Another condition to look at would be when the rate of change of either animal is drastically high or drastically low. Finally, another important boundary condition I would like to look into would be what conditions cause for either the predator or the prey to die off completely.\n",
    "\n",
    "Results can be found in the \"Final Project Main Code\"\n",
    "\n",
    "References:\n",
    "Newman, Mark E. J. Computational Physics. Createspace, 2013.\n",
    "https://necsi.edu/mutualistic-relationships \n",
    "https://www.pnas.org/content/112/31/9493\n",
    "https://sciencing.com/five-types-ecological-relationships-7786.html\n",
    "http://www.tiem.utk.edu/~gross/bioed/bealsmodules/predator-prey.html"
   ]
  },
  {
   "cell_type": "code",
   "execution_count": null,
   "metadata": {},
   "outputs": [],
   "source": []
  }
 ],
 "metadata": {
  "kernelspec": {
   "display_name": "Python 3",
   "language": "python",
   "name": "python3"
  },
  "language_info": {
   "codemirror_mode": {
    "name": "ipython",
    "version": 3
   },
   "file_extension": ".py",
   "mimetype": "text/x-python",
   "name": "python",
   "nbconvert_exporter": "python",
   "pygments_lexer": "ipython3",
   "version": "3.7.4"
  }
 },
 "nbformat": 4,
 "nbformat_minor": 2
}
