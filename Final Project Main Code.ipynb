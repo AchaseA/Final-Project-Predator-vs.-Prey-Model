{
 "cells": [
  {
   "cell_type": "markdown",
   "metadata": {},
   "source": [
    "This is where I will be writing up the code for my final project."
   ]
  },
  {
   "cell_type": "code",
   "execution_count": 3,
   "metadata": {},
   "outputs": [
    {
     "name": "stderr",
     "output_type": "stream",
     "text": [
      "C:\\Users\\chase\\Anaconda3\\lib\\site-packages\\ipykernel_launcher.py:49: RuntimeWarning: overflow encountered in double_scalars\n",
      "C:\\Users\\chase\\Anaconda3\\lib\\site-packages\\ipykernel_launcher.py:50: RuntimeWarning: overflow encountered in double_scalars\n",
      "C:\\Users\\chase\\Anaconda3\\lib\\site-packages\\ipykernel_launcher.py:50: RuntimeWarning: invalid value encountered in double_scalars\n"
     ]
    },
    {
     "data": {
      "image/png": "[encoded data removed]",
      "text/plain": [
       "<Figure size 432x288 with 1 Axes>"
      ]
     },
     "metadata": {
      "needs_background": "light"
     },
     "output_type": "display_data"
    }
   ],
   "source": [
    "import numpy as np\n",
    "import matplotlib.pyplot as plt\n",
    "#constants/scalars\n",
    "alpha = 1\n",
    "beta = .5\n",
    "gamma = .5\n",
    "delta = 2\n",
    "\n",
    "\n",
    "#the lotka-volterra equations\n",
    "\n",
    "\n",
    "\n",
    "# def prey(x, y, t):\n",
    "#     '''Calculates a differential function that will model the rate of growth and decay of the prey.\n",
    "    \n",
    "#     Accepts:\n",
    "#         x: represents the population of prey - float\n",
    "#         y: represents the population of the predator - float\n",
    "#         t: represents time - float\n",
    "#     returns the ODE:  (a*x) - (b*x*y) \n",
    "#     '''\n",
    "#         return (a*x) - (b*x*y) \n",
    "# def pred(x, y, t):\n",
    "#       '''Calculates a differential function that will model the rate of growth and decay of the predator.\n",
    "    \n",
    "#     Accepts:\n",
    "#         x: represents the population of prey - float\n",
    "#         y: represents the population of the predator - float\n",
    "#         t: represents time - float\n",
    "#     returns the ODE: (c*x*y) - (d*y)\n",
    "#     '''\n",
    "#         return  (c*x*y) - (d*y)\n",
    "# def RK4( )\n",
    "\n",
    "def pp(r,t):\n",
    "    '''Calculates two ODEs that encapsules both the predator and prey models into one variable r\n",
    "    \n",
    "    accepts:\n",
    "        r: represents a type of array that can be spliced and turned into multiple equations\n",
    "        t: represents\n",
    "    pred: ODE modeling the predator population as it changes with respect to the prey's population \n",
    "            and time\n",
    "    prey: represents the ODE modeling the prey population as it changes in time predator's population\n",
    "            and time \n",
    "    returns array([fprey, fpred], float)'''\n",
    "    prey = r[0]\n",
    "    pred = r[1]\n",
    "    fprey = (alpha*prey) - (beta*prey*pred)\n",
    "    fpred = (gamma*prey*pred) - (delta*pred)\n",
    "    return np.array([fprey, fpred], float)\n",
    "    \n",
    "def RK4(f, a, b, N):\n",
    "    '''calculates the solution of the input function using the fourth order runge-kutta solving method\n",
    "    accepts: \n",
    "        f - function that returns an array\n",
    "        a - initial \n",
    "        b - final \n",
    "        N - steps\n",
    "    xpoints represents the population of prey\n",
    "    ypoints represents the population of predators\n",
    "        returns \n",
    "    '''\n",
    "    h = (b-a)/N\n",
    "    tpoints = np.arange(a,b,h)\n",
    "    xpoints = []\n",
    "    ypoints = []\n",
    "    \n",
    "    r = np.array([1.0,1.0],float)\n",
    "    for t in tpoints:\n",
    "        xpoints.append(r[0])\n",
    "        ypoints.append(r[1])\n",
    "        k1 = h*f(r,t)\n",
    "        k2 = h*f(r+0.5*k1, t+0.5*h)\n",
    "        k3 = h*f(r+0.5*k2, t+0.5*h)\n",
    "        k4 = h*f(r+k3,t+h)\n",
    "        r += (k1+ 2*k2 + 2*k3 +k4)/6\n",
    "    plt.plot(tpoints,xpoints)\n",
    "    plt.plot(tpoints,ypoints)\n",
    "    plt.xlabel(\"t\")\n",
    "    plt.ylabel(\"x/y(t)\")\n",
    "    plt.show()\n",
    "RK4(pp, 0, 30, 20)"
   ]
  },
  {
   "cell_type": "markdown",
   "metadata": {},
   "source": [
    "This code seems to work well with a certain combination of scalars and runs into issues with other combinations of scalars. The issue I'm running into right now is an overflow due to double scalars, and that occurs when I'm using the  "
   ]
  }
 ],
 "metadata": {
  "kernelspec": {
   "display_name": "Python 3",
   "language": "python",
   "name": "python3"
  },
  "language_info": {
   "codemirror_mode": {
    "name": "ipython",
    "version": 3
   },
   "file_extension": ".py",
   "mimetype": "text/x-python",
   "name": "python",
   "nbconvert_exporter": "python",
   "pygments_lexer": "ipython3",
   "version": "3.7.4"
  }
 },
 "nbformat": 4,
 "nbformat_minor": 2
}
